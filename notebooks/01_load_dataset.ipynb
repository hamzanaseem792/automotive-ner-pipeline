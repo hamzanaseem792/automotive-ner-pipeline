{
 "cells": [
  {
   "cell_type": "code",
   "execution_count": 3,
   "id": "8be43354",
   "metadata": {},
   "outputs": [
    {
     "name": "stdout",
     "output_type": "stream",
     "text": [
      "DatasetDict({\n",
      "    train: Dataset({\n",
      "        features: ['tokens', 'ner_tags'],\n",
      "        num_rows: 500\n",
      "    })\n",
      "    validation: Dataset({\n",
      "        features: ['tokens', 'ner_tags'],\n",
      "        num_rows: 21\n",
      "    })\n",
      "})\n",
      "{'tokens': ['The', 'technician', 'performed', 'a', 'diagnostic', 'scan', 'using', 'a', 'hydraulic', 'jack', 'and', 'noted', 'overheating', 'in', 'the', 'alternator', 'with', 'a', 'measurement', 'of', '5', 'ohms'], 'ner_tags': [0, 0, 0, 0, 7, 8, 0, 0, 9, 10, 0, 0, 5, 0, 0, 1, 0, 0, 0, 0, 3, 3]}\n"
     ]
    }
   ],
   "source": [
    "from datasets import DatasetDict, Dataset\n",
    "import json\n",
    "\n",
    "# Load JSON\n",
    "with open(\"../data/dataset.json\", \"r\", encoding=\"utf-8\") as f:\n",
    "    data = json.load(f)\n",
    "\n",
    "# Convert to Hugging Face Datasets format\n",
    "dataset_dict = DatasetDict({\n",
    "    split: Dataset.from_list(records)\n",
    "    for split, records in data.items()\n",
    "})\n",
    "\n",
    "# Confirm it's working\n",
    "print(dataset_dict)\n",
    "print(dataset_dict[\"train\"][0])\n"
   ]
  }
 ],
 "metadata": {
  "kernelspec": {
   "display_name": "base",
   "language": "python",
   "name": "python3"
  },
  "language_info": {
   "codemirror_mode": {
    "name": "ipython",
    "version": 3
   },
   "file_extension": ".py",
   "mimetype": "text/x-python",
   "name": "python",
   "nbconvert_exporter": "python",
   "pygments_lexer": "ipython3",
   "version": "3.12.7"
  }
 },
 "nbformat": 4,
 "nbformat_minor": 5
}
