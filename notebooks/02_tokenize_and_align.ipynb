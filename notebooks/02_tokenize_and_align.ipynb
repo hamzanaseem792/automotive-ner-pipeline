{
 "cells": [
  {
   "cell_type": "code",
   "execution_count": 9,
   "id": "29ee2064",
   "metadata": {},
   "outputs": [
    {
     "data": {
      "application/vnd.jupyter.widget-view+json": {
       "model_id": "f3e3158c4946402b892e874ac3533975",
       "version_major": 2,
       "version_minor": 0
      },
      "text/plain": [
       "Filter:   0%|          | 0/500 [00:00<?, ? examples/s]"
      ]
     },
     "metadata": {},
     "output_type": "display_data"
    },
    {
     "data": {
      "application/vnd.jupyter.widget-view+json": {
       "model_id": "3c08f846e9f94e0db5bec24e017a2a7c",
       "version_major": 2,
       "version_minor": 0
      },
      "text/plain": [
       "Filter:   0%|          | 0/21 [00:00<?, ? examples/s]"
      ]
     },
     "metadata": {},
     "output_type": "display_data"
    },
    {
     "data": {
      "application/vnd.jupyter.widget-view+json": {
       "model_id": "fec7398dc72b4b53b11f4724adb66aba",
       "version_major": 2,
       "version_minor": 0
      },
      "text/plain": [
       "Tokenizing and aligning:   0%|          | 0/500 [00:00<?, ? examples/s]"
      ]
     },
     "metadata": {},
     "output_type": "display_data"
    },
    {
     "data": {
      "application/vnd.jupyter.widget-view+json": {
       "model_id": "5de51489613f4f9e8cd83c5aae048d52",
       "version_major": 2,
       "version_minor": 0
      },
      "text/plain": [
       "Tokenizing and aligning:   0%|          | 0/15 [00:00<?, ? examples/s]"
      ]
     },
     "metadata": {},
     "output_type": "display_data"
    },
    {
     "data": {
      "application/vnd.jupyter.widget-view+json": {
       "model_id": "c76d5d187fe249f6ac2c085557d79d4d",
       "version_major": 2,
       "version_minor": 0
      },
      "text/plain": [
       "Filter:   0%|          | 0/500 [00:00<?, ? examples/s]"
      ]
     },
     "metadata": {},
     "output_type": "display_data"
    },
    {
     "data": {
      "application/vnd.jupyter.widget-view+json": {
       "model_id": "b3f13df6a84a4745a1e8571fb0ad4aea",
       "version_major": 2,
       "version_minor": 0
      },
      "text/plain": [
       "Filter:   0%|          | 0/15 [00:00<?, ? examples/s]"
      ]
     },
     "metadata": {},
     "output_type": "display_data"
    },
    {
     "data": {
      "application/vnd.jupyter.widget-view+json": {
       "model_id": "dc1f5c2305d3467a8b5f2faa07f2b0d8",
       "version_major": 2,
       "version_minor": 0
      },
      "text/plain": [
       "Saving the dataset (0/1 shards):   0%|          | 0/500 [00:00<?, ? examples/s]"
      ]
     },
     "metadata": {},
     "output_type": "display_data"
    },
    {
     "data": {
      "application/vnd.jupyter.widget-view+json": {
       "model_id": "dce15d3eca964445aef95e37d53826e7",
       "version_major": 2,
       "version_minor": 0
      },
      "text/plain": [
       "Saving the dataset (0/1 shards):   0%|          | 0/15 [00:00<?, ? examples/s]"
      ]
     },
     "metadata": {},
     "output_type": "display_data"
    },
    {
     "name": "stdout",
     "output_type": "stream",
     "text": [
      "Tokenized dataset saved to '../data/tokenized_dataset'\n"
     ]
    }
   ],
   "source": [
    "from datasets import load_dataset, DatasetDict, Dataset\n",
    "from transformers import AutoTokenizer\n",
    "import json\n",
    "\n",
    "#  lets laod the dataset \n",
    "with open(\"../data/dataset.json\", \"r\", encoding=\"utf-8\") as f:\n",
    "    data = json.load(f)\n",
    "\n",
    "raw_datasets = DatasetDict({\n",
    "    \"train\": Dataset.from_list(data[\"train\"]),\n",
    "    \"validation\": Dataset.from_list(data[\"validation\"])\n",
    "})\n",
    "\n",
    "# lets laod the pretrained ztokenozer , i can train tokenizer from scratch if my domain is not matching \n",
    "model_checkpoint = \"bert-base-cased\"\n",
    "tokenizer = AutoTokenizer.from_pretrained(model_checkpoint)\n",
    "\n",
    "assert tokenizer.is_fast, \"Tokenizer must be fast for word_ids to work!\"\n",
    "\n",
    "#  lets write main label alignment function\n",
    "def align_labels_with_tokens(labels, word_ids):\n",
    "    new_labels = []\n",
    "    current_word = None\n",
    "    for word_id in word_ids:\n",
    "        if word_id is None:\n",
    "            new_labels.append(-100)\n",
    "        elif word_id != current_word:\n",
    "            current_word = word_id\n",
    "            new_labels.append(labels[word_id])\n",
    "        else:\n",
    "            label = labels[word_id]\n",
    "            if label % 2 == 1:\n",
    "                label += 1\n",
    "            new_labels.append(label)\n",
    "    return new_labels\n",
    "\n",
    "\n",
    "def tokenize_and_align_labels(example):\n",
    "    if len(example[\"tokens\"]) != len(example[\"ner_tags\"]):\n",
    "        print(\"Skipping due to mismatched length:\", example[\"tokens\"])\n",
    "        return {}\n",
    "\n",
    "    tokenized_input = tokenizer(\n",
    "        example[\"tokens\"],\n",
    "        truncation=True,\n",
    "        padding=True,\n",
    "        is_split_into_words=True\n",
    "    )\n",
    "\n",
    "    word_ids = tokenized_input.word_ids()\n",
    "    labels = align_labels_with_tokens(example[\"ner_tags\"], word_ids)\n",
    "    tokenized_input[\"labels\"] = labels\n",
    "    return tokenized_input\n",
    "\n",
    "\n",
    "def is_clean(sample):\n",
    "    return \"tokens\" in sample and \"ner_tags\" in sample and len(sample[\"tokens\"]) == len(sample[\"ner_tags\"])\n",
    "\n",
    "raw_datasets[\"train\"] = raw_datasets[\"train\"].filter(is_clean)\n",
    "raw_datasets[\"validation\"] = raw_datasets[\"validation\"].filter(is_clean)\n",
    "\n",
    "\n",
    "\n",
    "#  lets map it to dataset \n",
    "tokenized_datasets = raw_datasets.map(\n",
    "    tokenize_and_align_labels,\n",
    "    batched=False,\n",
    "    remove_columns=raw_datasets[\"train\"].column_names,\n",
    "    desc=\"Tokenizing and aligning\",\n",
    ")\n",
    "\n",
    "# Remove empty examples if any (important!)\n",
    "def is_valid(example):\n",
    "    return \"input_ids\" in example and isinstance(example[\"input_ids\"], list) and len(example[\"input_ids\"]) > 0\n",
    "\n",
    "tokenized_datasets = tokenized_datasets.filter(is_valid)\n",
    "\n",
    "\n",
    "\n",
    "# === Save for reuse ===\n",
    "tokenized_datasets.save_to_disk(\"../data/tokenized_dataset\")\n",
    "print(\"Tokenized dataset saved to '../data/tokenized_dataset'\")\n"
   ]
  }
 ],
 "metadata": {
  "kernelspec": {
   "display_name": "base",
   "language": "python",
   "name": "python3"
  },
  "language_info": {
   "codemirror_mode": {
    "name": "ipython",
    "version": 3
   },
   "file_extension": ".py",
   "mimetype": "text/x-python",
   "name": "python",
   "nbconvert_exporter": "python",
   "pygments_lexer": "ipython3",
   "version": "3.12.7"
  }
 },
 "nbformat": 4,
 "nbformat_minor": 5
}
